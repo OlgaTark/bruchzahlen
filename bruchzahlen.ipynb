{
 "cells": [
  {
   "cell_type": "code",
   "execution_count": 15,
   "id": "22056487-4b69-4047-8b99-b19afd1c3788",
   "metadata": {
    "jupyter": {
     "source_hidden": true
    },
    "tags": []
   },
   "outputs": [],
   "source": [
    "import ipywidgets as widgets\n",
    "import matplotlib.pyplot as plt\n",
    "from ipywidgets import interact, interactive_output\n",
    "import numpy as np\n",
    "from IPython.display import display\n"
   ]
  },
  {
   "cell_type": "markdown",
   "id": "792793e5",
   "metadata": {},
   "source": [
    "Bruchzahlen oder Brüche zeigen, wie viele Teile eines Ganzen wir haben. Das \"Ganze\" kann viele verschiedene Dinge bedeuten – zum Beispiel eine Pizza, die in Stücke geschnitten wurde, oder eine Sammlung von 8 Äpfeln in einem Korb. Eine Schulklasse könnte ein Ganzes darstellen, genauso wie die Entfernung vom Haus zur Schule.\n",
    "\n",
    "Bruchzahlen werden durch Zähler, Bruchstrich und Nenner dargestellt \n",
    "$$\\frac{\\text{Zähler}}{\\text{Nenner}} = \\frac{\\text{Anzahl der Teile}}{\\text{Gesamtanzahl der Teile}}$$\n",
    "\n",
    "Nehmen wir an, du hast eine Pizza gekauft und möchtest sie mit einem Freund teilen. Ihr schneidet die Pizza in zwei gleiche Teile, und jeder bekommt einen Teil von insgesamt zwei. Das schreibt man dann so auf: $\\frac{1}{2}$. \n",
    "\n",
    "Es kann auch sein, dass du sehr viel Hunger hast und dein Freund vor kurzem gegessen hat, aber trotzdem nicht zu einem Stück Pizza Nein sagen möchte. Ihr könnt die Pizza in vier gleich große Teile schneiden, und du bekommst drei Stücke von insgesamt vier. Dann hast du $\\frac{3}{4}$ der Pizza erhalten, während dein Freund den Rest bekommt, also ein Stück von insgesamt vier. Das schreibt man so auf: $\\frac{1}{4}$. \n",
    "\n",
    "Wichtig ist zu verstehen, dass der Bruchstrich tatsächlich \"teilen\" bedeutet. Das ist vergleichbar mit dem, was man beim Teilen gelernt hat. Zum Beispiel: $$2:5 = \\frac{2}{5}$$\n",
    "\n",
    "Bilder wie Kreisdiagramme, Rechtecke oder auch Strecken helfen zu verstehen, wie Brüche funktionieren, indem sie zeigen, wie das Ganze in gleich große Teile geteilt ist."
   ]
  },
  {
   "cell_type": "code",
   "execution_count": 16,
   "id": "11c0d212",
   "metadata": {},
   "outputs": [
    {
     "data": {
      "application/vnd.jupyter.widget-view+json": {
       "model_id": "58a58c0fd6c2435cb7dd89adb608faa3",
       "version_major": 2,
       "version_minor": 0
      },
      "text/plain": [
       "VBox(children=(IntSlider(value=3, description='Gefärbt', max=8), IntSlider(value=8, description='Insgesamt', m…"
      ]
     },
     "execution_count": 16,
     "metadata": {},
     "output_type": "execute_result"
    }
   ],
   "source": [
    "# Funktion für das Kreisdiagramm\n",
    "def kreisdiagramm_interaktiv(k, n):\n",
    "    # Sicherstellen, dass k nicht größer als n wird\n",
    "    k = min(k, n)\n",
    "    \n",
    "    # Erstelle die Werte und Farben basierend auf n und k\n",
    "    werte = [1] * n   # für n = 5 ist das die ausgabe: [1, 1, 1, 1, 1]\n",
    "    farben = ['lightblue'] * k + ['white'] * (n - k)   # z.B. ['lightblue', 'lightblue', 'white', 'white', 'white']\n",
    "    \n",
    "    # Kreisdiagramm erstellen\n",
    "    plt.figure(figsize=(5, 5))  # Setze die Größe des Diagramms\n",
    "    plt.pie(werte, colors=farben, startangle=90, wedgeprops={'edgecolor': 'black'})\n",
    "    plt.gca().set_aspect('equal')  # Gleichmäßiges Aussehen sicherstellen\n",
    "    plt.show()\n",
    "\n",
    "# Funktion zur dynamischen Anpassung des k-Sliders\n",
    "def update_k_slider(n):\n",
    "    # Dynamisch den max-Wert des k-Sliders basierend auf n setzen\n",
    "    k_slider.max = n\n",
    "\n",
    "# Erstelle den n-Slider und den k-Slider\n",
    "n_slider = widgets.IntSlider(min=1, max=20, step=1, value=8, description='Insgesamt')\n",
    "k_slider = widgets.IntSlider(min=0, max=8, step=1, value=3, description='Gefärbt')\n",
    "\n",
    "# Verknüpfe den n-Slider mit der dynamischen Anpassung des k-Sliders\n",
    "n_slider.observe(lambda change: update_k_slider(change['new']), names='value')\n",
    "\n",
    "# Zeige das Diagramm basierend auf den aktuellen Werten\n",
    "out = interactive_output(kreisdiagramm_interaktiv, {'k': k_slider, 'n': n_slider})\n",
    "\n",
    "# Zeige die Slider und das Diagramm zusammen\n",
    "widgets.VBox([k_slider, n_slider, out])\n"
   ]
  },
  {
   "cell_type": "code",
   "execution_count": 17,
   "id": "d9b26adf",
   "metadata": {},
   "outputs": [
    {
     "data": {
      "application/vnd.jupyter.widget-view+json": {
       "model_id": "3d682cd1011f4f46a215e70df1193991",
       "version_major": 2,
       "version_minor": 0
      },
      "text/plain": [
       "VBox(children=(IntSlider(value=3, description='Gefärbt', max=8), IntSlider(value=8, description='Insgesamt', m…"
      ]
     },
     "execution_count": 17,
     "metadata": {},
     "output_type": "execute_result"
    }
   ],
   "source": [
    "# Funktion für das Rechteckdiagramm\n",
    "def rechteckdiagramm_interaktiv(k, n):\n",
    "    # Sicherstellen, dass k nicht größer als n wird\n",
    "    k = min(k, n)\n",
    "    \n",
    "    # Erstelle die Werte und Farben basierend auf n und k\n",
    "    werte = [1] * n  # Für n = 5 ist das die Ausgabe: [1, 1, 1, 1, 1]\n",
    "    farben = ['pink'] * k + ['white'] * (n - k)  # z.B. ['lightblue', 'lightblue', 'white', 'white', 'white']\n",
    "    \n",
    "    # Rechteckdiagramm erstellen\n",
    "    plt.figure(figsize=(10, 2))  # Setze die Größe des Diagramms\n",
    "    plt.bar(range(n), werte, color=farben, edgecolor='black', width=1.0, linewidth=2,  bottom=0.02)  # Setze die Breite auf 1.0\n",
    "    # Blende die Achsen aus\n",
    "    plt.ylim(0, 1.02)\n",
    "    plt.axis('off')\n",
    "    plt.show()\n",
    "\n",
    "# Funktion zur dynamischen Anpassung des k-Sliders\n",
    "def update_k_slider(n):\n",
    "    # Dynamisch den max-Wert des k-Sliders basierend auf n setzen\n",
    "    k_slider.max = n\n",
    "\n",
    "# Erstelle den n-Slider und den k-Slider\n",
    "n_slider = widgets.IntSlider(min=1, max=20, step=1, value=8, description='Insgesamt')\n",
    "k_slider = widgets.IntSlider(min=0, max=8, step=1, value=3, description='Gefärbt')\n",
    "\n",
    "# Verknüpfe den n-Slider mit der dynamischen Anpassung des k-Sliders\n",
    "n_slider.observe(lambda change: update_k_slider(change['new']), names='value')\n",
    "\n",
    "# Zeige das Diagramm basierend auf den aktuellen Werten\n",
    "out = interactive_output(rechteckdiagramm_interaktiv, {'k': k_slider, 'n': n_slider})\n",
    "\n",
    "# Zeige die Slider und das Diagramm zusammen\n",
    "widgets.VBox([k_slider, n_slider, out])\n"
   ]
  },
  {
   "cell_type": "code",
   "execution_count": 18,
   "id": "97710281",
   "metadata": {},
   "outputs": [
    {
     "data": {
      "application/vnd.jupyter.widget-view+json": {
       "model_id": "a2107c80d0f244a1bb7c5612f97f5276",
       "version_major": 2,
       "version_minor": 0
      },
      "text/plain": [
       "VBox(children=(IntSlider(value=3, description='Gefärbt', max=8), IntSlider(value=8, description='Insgesamt', m…"
      ]
     },
     "execution_count": 18,
     "metadata": {},
     "output_type": "execute_result"
    }
   ],
   "source": [
    "# Funktion für die x-Achse\n",
    "def x_achse_interaktiv(k, n):\n",
    "    # Sicherstellen, dass k nicht größer als n wird\n",
    "    k = min(k, n)\n",
    "\n",
    "    # Zeichne den schwarzen Strahl\n",
    "    plt.figure(figsize=(10, 1))  # Setze die Größe des Diagramms\n",
    "    plt.hlines(0, 0, n , color='black', linewidth=4)  # Zeichne die x-Achse\n",
    "\n",
    "    # Färbe die Teile auf der x-Achse\n",
    "    for i in range(n):\n",
    "        if i < k:\n",
    "            plt.fill_betweenx([-0.05, 0.05], i , i + 1, color='darkblue')  # Gefärbte Teile\n",
    "        else:\n",
    "            plt.fill_betweenx([-0.1, 0.1], i , i + 1, color='white')  # Weiße Teile\n",
    "\n",
    "        # Zeichne kleine Striche an jedem Punkt\n",
    "        plt.vlines(i , -0.1, 0.1, color='black', linewidth=1)\n",
    "\n",
    "    plt.xlim(0, n  )  # Setze die x-Achsen-Grenzen\n",
    "    plt.ylim(-0.2, 0.2)  # Setze die y-Achsen-Grenzen\n",
    "    plt.xticks(range(n + 1))  # Zeige die Zahlen auf der x-Achse an\n",
    "    plt.yticks([])  # Blende die y-Achsen-Beschriftungen aus\n",
    "    plt.axhline(0, color='black', linewidth=1)  # x-Achse zeichnen\n",
    "    plt.show()\n",
    "\n",
    "# Funktion zur dynamischen Anpassung des k-Sliders\n",
    "def update_k_slider(n):\n",
    "    # Dynamisch den max-Wert des k-Sliders basierend auf n setzen\n",
    "    k_slider.max = n\n",
    "\n",
    "# Erstelle den n-Slider und den k-Slider\n",
    "n_slider = widgets.IntSlider(min=1, max=20, step=1, value=8, description='Insgesamt')\n",
    "k_slider = widgets.IntSlider(min=0, max=8, step=1, value=3, description='Gefärbt')\n",
    "\n",
    "# Verknüpfe den n-Slider mit der dynamischen Anpassung des k-Sliders\n",
    "n_slider.observe(lambda change: update_k_slider(change['new']), names='value')\n",
    "\n",
    "# Zeige das Diagramm basierend auf den aktuellen Werten\n",
    "out = interactive_output(x_achse_interaktiv, {'k': k_slider, 'n': n_slider})\n",
    "\n",
    "# Zeige die Slider und das Diagramm zusammen\n",
    "widgets.VBox([k_slider, n_slider, out])\n"
   ]
  },
  {
   "cell_type": "code",
   "execution_count": null,
   "id": "68a8bb13",
   "metadata": {},
   "outputs": [
    {
     "data": {
      "application/vnd.jupyter.widget-view+json": {
       "model_id": "eadbf67fe7c6478caccfdbc42e62c254",
       "version_major": 2,
       "version_minor": 0
      },
      "text/plain": [
       "interactive(children=(IntSlider(value=8, description='Teile (n)', max=20, min=1), IntSlider(value=3, descripti…"
      ]
     },
     "metadata": {},
     "output_type": "display_data"
    }
   ],
   "source": [
    "# Funktion für die Kreisdiagramme\n",
    "def kreisdiagramm_interaktiv(n, k):\n",
    "    # Erstellen der Subplots\n",
    "    if k > n:\n",
    "        fig, axs = plt.subplots(1, 2, figsize=(10, 5))  # Zwei Diagramme\n",
    "    else:\n",
    "        fig, ax = plt.subplots(1, 1, figsize=(5, 5))  # Ein Diagramm\n",
    "    \n",
    "    # Erster Kreis: n Teile\n",
    "    werte = [1] * n\n",
    "    farben = ['red'] * min(k, n) + ['blue'] * (n - min(k, n))\n",
    "\n",
    "    if k > n:\n",
    "        axs[0].pie(werte, colors=farben, startangle=90, wedgeprops={'edgecolor': 'black'})\n",
    "        axs[0].set_title(f'Kreis 1: n = {n}, k = {min(k, n)}')\n",
    "        axs[0].set_aspect('equal')\n",
    "\n",
    "        # Zweiter Kreis: n Teile, von denen die ersten (k - n) gefärbt sind\n",
    "        werte_zweiter_kreis = [1] * n\n",
    "        farben_zweiter_kreis = ['red'] * (k - n) + ['blue'] * (n - (k - n))\n",
    "\n",
    "        axs[1].pie(werte_zweiter_kreis, colors=farben_zweiter_kreis, startangle=90, wedgeprops={'edgecolor': 'black'})\n",
    "        axs[1].set_title(f'Kreis 2: n = {n}, zusätzliche k - n = {k - n} gefärbt')\n",
    "        axs[1].set_aspect('equal')\n",
    "    else:\n",
    "        ax.pie(werte, colors=farben, startangle=90, wedgeprops={'edgecolor': 'black'})\n",
    "        ax.set_title(f'Kreis: n = {n}, k = {k}')\n",
    "        ax.set_aspect('equal')\n",
    "\n",
    "    plt.show()\n",
    "\n",
    "# Interaktive Slider für n und k\n",
    "interact(kreisdiagramm_interaktiv, \n",
    "         n=widgets.IntSlider(min=1, max=20, step=1, value=8, description='Teile (n)'), \n",
    "         k=widgets.IntSlider(min=0, max=40, step=1, value=3, description='Gefärbt (k)'));\n"
   ]
  },
  {
   "cell_type": "code",
   "execution_count": 20,
   "id": "15045208",
   "metadata": {},
   "outputs": [
    {
     "data": {
      "application/vnd.jupyter.widget-view+json": {
       "model_id": "6d782d1407da484782df8fa502132b11",
       "version_major": 2,
       "version_minor": 0
      },
      "text/plain": [
       "interactive(children=(IntSlider(value=8, description='Teile (n)', max=20, min=1), IntSlider(value=3, descripti…"
      ]
     },
     "metadata": {},
     "output_type": "display_data"
    }
   ],
   "source": [
    "# Funktion für mehrere Kreisdiagramme\n",
    "def kreisdiagramm_interaktiv(n, k):\n",
    "    # Berechnen, wie viele Kreise benötigt werden\n",
    "    kreise_count = (k // n) + 1\n",
    "\n",
    "    # Erstellen der Subplots\n",
    "    fig, axs = plt.subplots(1, kreise_count, figsize=(5 * kreise_count, 5))\n",
    "    \n",
    "    # Sicherstellen, dass axs eine Liste ist (falls nur ein Kreis gezeichnet wird)\n",
    "    if kreise_count == 1:\n",
    "        axs = [axs]\n",
    "\n",
    "    # Erster Kreis: n Teile\n",
    "    werte = [1] * n\n",
    "    for i in range(kreise_count):\n",
    "        # Bestimmen, wie viele Teile im aktuellen Kreis gefärbt sein sollen\n",
    "        gefaerbte_teile = max(0, min(k - i * n, n))\n",
    "        farben = ['red'] * gefaerbte_teile + ['blue'] * (n - gefaerbte_teile)\n",
    "\n",
    "        axs[i].pie(werte, colors=farben, startangle=90, wedgeprops={'edgecolor': 'black'})\n",
    "        axs[i].set_title(f'Kreis {i + 1}: n = {n}, k = {min(k - i * n, n)}')\n",
    "        axs[i].set_aspect('equal')\n",
    "\n",
    "    plt.show()\n",
    "\n",
    "# Interaktive Slider für n und k\n",
    "interact(kreisdiagramm_interaktiv, \n",
    "         n=widgets.IntSlider(min=1, max=20, step=1, value=8, description='Teile (n)'), \n",
    "         k=widgets.IntSlider(min=0, max=100, step=1, value=3, description='Gefärbt (k)'));\n"
   ]
  }
 ],
 "metadata": {
  "kernelspec": {
   "display_name": "base",
   "language": "python",
   "name": "python3"
  },
  "language_info": {
   "codemirror_mode": {
    "name": "ipython",
    "version": 3
   },
   "file_extension": ".py",
   "mimetype": "text/x-python",
   "name": "python",
   "nbconvert_exporter": "python",
   "pygments_lexer": "ipython3",
   "version": "3.11.5"
  }
 },
 "nbformat": 4,
 "nbformat_minor": 5
}
